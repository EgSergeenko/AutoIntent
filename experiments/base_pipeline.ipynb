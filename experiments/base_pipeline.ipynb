{
 "cells": [
  {
   "cell_type": "markdown",
   "metadata": {},
   "source": [
    "# Base Pipeline"
   ]
  },
  {
   "cell_type": "markdown",
   "metadata": {},
   "source": [
    "![](../assets/classification_pipeline.png)"
   ]
  },
  {
   "cell_type": "markdown",
   "metadata": {},
   "source": [
    "## regexp"
   ]
  },
  {
   "cell_type": "code",
   "execution_count": 7,
   "metadata": {},
   "outputs": [
    {
     "data": {
      "text/plain": [
       "{'intent_id': 0,\n",
       " 'intent_name': 'what_are_you_talking_about',\n",
       " 'sample_utterances': [],\n",
       " 'regexp_for_sampling': ['(alexa ){0,1}what are ((you)|(we)) ((talking about)|(discussing))',\n",
       "  '(alexa ){0,1}what ((you)|(we)) are (even ){0,1}((talking about)|(discussing))',\n",
       "  '(alexa ){0,1}what does it mean',\n",
       "  '(alexa ){0,1}pass that by me again',\n",
       "  \"(alexa ){0,1}i ((don't)|(didn't)|(do not)|(did not)) get it\",\n",
       "  '(alexa ){0,1}what it is about',\n",
       "  '(alexa ){0,1}what is it about',\n",
       "  'i lost common ground',\n",
       "  '(alexa ){0,1}what (even ){0,1}is that',\n",
       "  \"(i ((did not get)|(don't understand)|(don't get)) ){0,1}what do you mean( alexa){0,1}\",\n",
       "  \"(sorry, ){0,1}i ((don't)|(do not)|(didn't)|(did not)) ((understand)|(get))( ((what you mean)|(what are you talking about)))( alexa){0,1}\",\n",
       "  '((what you mean)|(what are you talking about))( alexa){0,1}',\n",
       "  \"i don't know what you just said\"],\n",
       " 'regexp_as_rules': ['(alexa ){0,1}are we having a communication problem',\n",
       "  \"(alexa ){0,1}i don't think you understand\",\n",
       "  'what',\n",
       "  'I did not get what do you mean']}"
      ]
     },
     "execution_count": 7,
     "metadata": {},
     "output_type": "execute_result"
    }
   ],
   "source": [
    "import json\n",
    "\n",
    "dream = json.load(open('../data/records/dream.json'))\n",
    "dream[0]"
   ]
  },
  {
   "cell_type": "code",
   "execution_count": 8,
   "metadata": {},
   "outputs": [],
   "source": [
    "import re\n",
    "\n",
    "def regexp_classifier(utterance, intents_patterns):\n",
    "    detected = set()\n",
    "    for intent in intents_patterns:\n",
    "        for pattern in intent['regexp_for_sampling'] + intent['regexp_as_rules']:\n",
    "            if re.match(pattern, utterance) is None:\n",
    "                continue\n",
    "            detected.add(intent['intent_id'])\n",
    "    return detected"
   ]
  },
  {
   "cell_type": "code",
   "execution_count": 9,
   "metadata": {},
   "outputs": [
    {
     "data": {
      "text/plain": [
       "{0, 5}"
      ]
     },
     "execution_count": 9,
     "metadata": {},
     "output_type": "execute_result"
    }
   ],
   "source": [
    "regexp_classifier(\n",
    "    utterance='what are you talking about',\n",
    "    intents_patterns=dream\n",
    ")"
   ]
  },
  {
   "cell_type": "code",
   "execution_count": 10,
   "metadata": {},
   "outputs": [
    {
     "data": {
      "text/plain": [
       "{1, 6}"
      ]
     },
     "execution_count": 10,
     "metadata": {},
     "output_type": "execute_result"
    }
   ],
   "source": [
    "regexp_classifier(\n",
    "    utterance='tell me something else',\n",
    "    intents_patterns=dream\n",
    ")"
   ]
  },
  {
   "cell_type": "code",
   "execution_count": 11,
   "metadata": {},
   "outputs": [
    {
     "data": {
      "text/plain": [
       "{6}"
      ]
     },
     "execution_count": 11,
     "metadata": {},
     "output_type": "execute_result"
    }
   ],
   "source": [
    "regexp_classifier(\n",
    "    utterance='kind of',\n",
    "    intents_patterns=dream\n",
    ")"
   ]
  },
  {
   "cell_type": "markdown",
   "metadata": {},
   "source": [
    "## retrieval"
   ]
  },
  {
   "cell_type": "code",
   "execution_count": 8,
   "metadata": {},
   "outputs": [
    {
     "data": {
      "text/plain": [
       "{'intent_id': 0,\n",
       " 'intent_name': 'activate_my_card',\n",
       " 'sample_utterances': [\"Please help me with my card.  It won't activate.\",\n",
       "  'I tired but an unable to activate my card.',\n",
       "  'I want to start using my card.',\n",
       "  'How do I verify my new card?',\n",
       "  \"I tried activating my plug-in and it didn't piece of work\"],\n",
       " 'regexp_for_sampling': [],\n",
       " 'regexp_as_rules': []}"
      ]
     },
     "execution_count": 8,
     "metadata": {},
     "output_type": "execute_result"
    }
   ],
   "source": [
    "import json\n",
    "\n",
    "banking77 = json.load(open('../data/records/banking77.json'))\n",
    "banking77[0]"
   ]
  },
  {
   "cell_type": "code",
   "execution_count": 20,
   "metadata": {},
   "outputs": [],
   "source": [
    "import chromadb\n",
    "from chromadb.utils.embedding_functions import SentenceTransformerEmbeddingFunction\n",
    "\n",
    "client = chromadb.PersistentClient(path='../data/chroma')\n",
    "collection = client.get_or_create_collection(\n",
    "    name=\"example_collection\",\n",
    "    embedding_function=SentenceTransformerEmbeddingFunction(model_name=\"Alibaba-NLP/gte-base-en-v1.5\", trust_remote_code=True)\n",
    ")"
   ]
  },
  {
   "cell_type": "code",
   "execution_count": 19,
   "metadata": {},
   "outputs": [],
   "source": [
    "client.delete_collection(\"example_collection\")"
   ]
  },
  {
   "cell_type": "code",
   "execution_count": 21,
   "metadata": {},
   "outputs": [],
   "source": [
    "import itertools as it\n",
    "\n",
    "\n",
    "all_sample_utterances = list(it.chain.from_iterable([intent['sample_utterances'] for intent in banking77]))\n",
    "ids = [str(i) for i in range(len(all_sample_utterances))]\n",
    "intent_labels = list(it.chain.from_iterable([[intent['intent_id']] * len(intent['sample_utterances']) for intent in banking77]))\n",
    "collection.add(\n",
    "    documents=all_sample_utterances,\n",
    "    ids=ids,\n",
    "    metadatas=[{'intent_id': intent_id} for intent_id in intent_labels]\n",
    ")"
   ]
  },
  {
   "cell_type": "code",
   "execution_count": 22,
   "metadata": {},
   "outputs": [
    {
     "data": {
      "text/plain": [
       "385"
      ]
     },
     "execution_count": 22,
     "metadata": {},
     "output_type": "execute_result"
    }
   ],
   "source": [
    "collection.count()"
   ]
  },
  {
   "cell_type": "code",
   "execution_count": 24,
   "metadata": {},
   "outputs": [
    {
     "data": {
      "text/plain": [
       "{'ids': [['197', '196', '218', '61', '201', '198', '204', '46', '148', '2']],\n",
       " 'distances': [[238.65634155273438,\n",
       "   254.8294219970703,\n",
       "   264.3768615722656,\n",
       "   302.11468505859375,\n",
       "   304.7674255371094,\n",
       "   325.4882507324219,\n",
       "   330.3798522949219,\n",
       "   334.2269592285156,\n",
       "   337.5621337890625,\n",
       "   338.61920166015625]],\n",
       " 'metadatas': [[{'intent_id': 39},\n",
       "   {'intent_id': 39},\n",
       "   {'intent_id': 43},\n",
       "   {'intent_id': 12},\n",
       "   {'intent_id': 40},\n",
       "   {'intent_id': 39},\n",
       "   {'intent_id': 40},\n",
       "   {'intent_id': 9},\n",
       "   {'intent_id': 29},\n",
       "   {'intent_id': 0}]],\n",
       " 'embeddings': None,\n",
       " 'documents': [['I want some extra physical cards.',\n",
       "   \"I'd like to order an additional card\",\n",
       "   'Can I request a card?',\n",
       "   'I need to get my card quickly',\n",
       "   'I need to order a new virtual card, how do I do that?',\n",
       "   'I would like open a second card for my daughter, how can you assist me?',\n",
       "   'Can you give me a virtual card?',\n",
       "   'Do I need to do something to get a new card once it expires?',\n",
       "   'Can I have more disposable cards?',\n",
       "   'I want to start using my card.']],\n",
       " 'uris': None,\n",
       " 'data': None,\n",
       " 'included': ['metadatas', 'documents', 'distances']}"
      ]
     },
     "execution_count": 24,
     "metadata": {},
     "output_type": "execute_result"
    }
   ],
   "source": [
    "collection.query(\n",
    "    query_texts=['i want a new card'],\n",
    "    n_results=10,   \n",
    ")"
   ]
  }
 ],
 "metadata": {
  "kernelspec": {
   "display_name": ".autointent-dev",
   "language": "python",
   "name": "python3"
  },
  "language_info": {
   "codemirror_mode": {
    "name": "ipython",
    "version": 3
   },
   "file_extension": ".py",
   "mimetype": "text/x-python",
   "name": "python",
   "nbconvert_exporter": "python",
   "pygments_lexer": "ipython3",
   "version": "3.10.14"
  }
 },
 "nbformat": 4,
 "nbformat_minor": 2
}

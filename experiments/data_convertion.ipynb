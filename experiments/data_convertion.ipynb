{
 "cells": [
  {
   "cell_type": "markdown",
   "metadata": {},
   "source": [
    "# Data Convertion"
   ]
  },
  {
   "cell_type": "markdown",
   "metadata": {},
   "source": [
    "Here's the code for converting different datasets to a my format."
   ]
  },
  {
   "cell_type": "code",
   "execution_count": 2,
   "metadata": {},
   "outputs": [],
   "source": [
    "# ! mkdir ../data/intent_records"
   ]
  },
  {
   "cell_type": "markdown",
   "metadata": {},
   "source": [
    "## Dream"
   ]
  },
  {
   "cell_type": "markdown",
   "metadata": {},
   "source": [
    "source:\n",
    "- english https://github.com/deeppavlov/dream/blob/new_intents/annotators/IntentCatcherTransformers/intent_phrases.json\n",
    "- russian https://github.com/deeppavlov/dream/blob/new_intents/annotators/IntentCatcherTransformers/intent_phrases_RU.json"
   ]
  },
  {
   "cell_type": "code",
   "execution_count": 3,
   "metadata": {},
   "outputs": [],
   "source": [
    "import json\n",
    "\n",
    "dream = json.load(open('../data/dream.json'))\n",
    "ru_dream = json.load(open('../data/ru_dream.json'))"
   ]
  },
  {
   "cell_type": "code",
   "execution_count": 4,
   "metadata": {},
   "outputs": [],
   "source": [
    "def convert_dream(dream_dict):\n",
    "    res = []\n",
    "    for i, (intent_name, all_phrases) in enumerate(dream_dict['intent_phrases'].items()):\n",
    "        intent_record = dict(\n",
    "            intent_id=i,\n",
    "            intent_name=intent_name,\n",
    "            sample_utterances=[],\n",
    "            regexp_for_sampling=all_phrases['phrases'],\n",
    "            regexp_as_rules=all_phrases['reg_phrases'] if 'reg_phrases' in all_phrases else []\n",
    "        )\n",
    "        res.append(intent_record)\n",
    "    return res"
   ]
  },
  {
   "cell_type": "code",
   "execution_count": 5,
   "metadata": {},
   "outputs": [],
   "source": [
    "dream_records = convert_dream(dream)"
   ]
  },
  {
   "cell_type": "code",
   "execution_count": 6,
   "metadata": {},
   "outputs": [
    {
     "data": {
      "text/html": [
       "<div>\n",
       "<style scoped>\n",
       "    .dataframe tbody tr th:only-of-type {\n",
       "        vertical-align: middle;\n",
       "    }\n",
       "\n",
       "    .dataframe tbody tr th {\n",
       "        vertical-align: top;\n",
       "    }\n",
       "\n",
       "    .dataframe thead th {\n",
       "        text-align: right;\n",
       "    }\n",
       "</style>\n",
       "<table border=\"1\" class=\"dataframe\">\n",
       "  <thead>\n",
       "    <tr style=\"text-align: right;\">\n",
       "      <th></th>\n",
       "      <th>intent_id</th>\n",
       "      <th>intent_name</th>\n",
       "      <th>sample_utterances</th>\n",
       "      <th>regexp_for_sampling</th>\n",
       "      <th>regexp_as_rules</th>\n",
       "    </tr>\n",
       "  </thead>\n",
       "  <tbody>\n",
       "    <tr>\n",
       "      <th>0</th>\n",
       "      <td>0</td>\n",
       "      <td>what_are_you_talking_about</td>\n",
       "      <td>[]</td>\n",
       "      <td>[(alexa ){0,1}what are ((you)|(we)) ((talking ...</td>\n",
       "      <td>[(alexa ){0,1}are we having a communication pr...</td>\n",
       "    </tr>\n",
       "    <tr>\n",
       "      <th>1</th>\n",
       "      <td>1</td>\n",
       "      <td>topic_switching</td>\n",
       "      <td>[]</td>\n",
       "      <td>[(that's ){0,1}enough( talking ){0,1} about ((...</td>\n",
       "      <td>[tell me something else, don't tell me about ....</td>\n",
       "    </tr>\n",
       "    <tr>\n",
       "      <th>2</th>\n",
       "      <td>2</td>\n",
       "      <td>lets_chat_about</td>\n",
       "      <td>[]</td>\n",
       "      <td>[(stop ){0,1}(((let's )|(i want to )|(wanna )|...</td>\n",
       "      <td>[.*let(('s)|(s)) ((chat)|(talk)) ((to|with) (m...</td>\n",
       "    </tr>\n",
       "    <tr>\n",
       "      <th>3</th>\n",
       "      <td>3</td>\n",
       "      <td>exit</td>\n",
       "      <td>[]</td>\n",
       "      <td>[be quiet, (see you ){0,1}later, leave me alon...</td>\n",
       "      <td>[(leave|end) (the|this) conversation, alexa do...</td>\n",
       "    </tr>\n",
       "    <tr>\n",
       "      <th>4</th>\n",
       "      <td>4</td>\n",
       "      <td>tell_me_a_story</td>\n",
       "      <td>[]</td>\n",
       "      <td>[tell me ((another)|(other)) story, ((can you ...</td>\n",
       "      <td>[(can you ){0,1}tell me a .* story]</td>\n",
       "    </tr>\n",
       "    <tr>\n",
       "      <th>5</th>\n",
       "      <td>5</td>\n",
       "      <td>repeat</td>\n",
       "      <td>[]</td>\n",
       "      <td>[i did not hear you, what come again, what did...</td>\n",
       "      <td>[one second, what( (book|movie))?, say it agai...</td>\n",
       "    </tr>\n",
       "    <tr>\n",
       "      <th>6</th>\n",
       "      <td>6</td>\n",
       "      <td>yes</td>\n",
       "      <td>[]</td>\n",
       "      <td>[yes yes yes, ((sure)|(fine)|(okay)|(ok)|(yes)...</td>\n",
       "      <td>[you bet, kind of, sort of, oh yeah, maybe, it...</td>\n",
       "    </tr>\n",
       "    <tr>\n",
       "      <th>7</th>\n",
       "      <td>7</td>\n",
       "      <td>no</td>\n",
       "      <td>[]</td>\n",
       "      <td>[(alexa ){0,1}((no)|(nope)|(no way)|(don't)|(d...</td>\n",
       "      <td>[.* no no, .* not today]</td>\n",
       "    </tr>\n",
       "    <tr>\n",
       "      <th>8</th>\n",
       "      <td>8</td>\n",
       "      <td>dont_understand</td>\n",
       "      <td>[]</td>\n",
       "      <td>[(because ){0,1}you are being confusing(, alex...</td>\n",
       "      <td>[]</td>\n",
       "    </tr>\n",
       "    <tr>\n",
       "      <th>9</th>\n",
       "      <td>9</td>\n",
       "      <td>stupid</td>\n",
       "      <td>[]</td>\n",
       "      <td>[(alexa ){0,1}why are you this ((stupid)|(dump...</td>\n",
       "      <td>[]</td>\n",
       "    </tr>\n",
       "    <tr>\n",
       "      <th>10</th>\n",
       "      <td>10</td>\n",
       "      <td>cant_do</td>\n",
       "      <td>[]</td>\n",
       "      <td>[(alexa ){0,1}sing me a ((happy)|(sad)|(bedtim...</td>\n",
       "      <td>[(let's|let us) play .*, can you whisper.*, (c...</td>\n",
       "    </tr>\n",
       "    <tr>\n",
       "      <th>11</th>\n",
       "      <td>11</td>\n",
       "      <td>tell_me_more</td>\n",
       "      <td>[]</td>\n",
       "      <td>[((please )|(well )){0,1}tell me ((anything )|...</td>\n",
       "      <td>[((please) |(well )){0,1}tell me ((more)|(some...</td>\n",
       "    </tr>\n",
       "    <tr>\n",
       "      <th>12</th>\n",
       "      <td>12</td>\n",
       "      <td>weather_forecast_intent</td>\n",
       "      <td>[]</td>\n",
       "      <td>[tell me the weather in my ((town)|(city)|(pla...</td>\n",
       "      <td>[]</td>\n",
       "    </tr>\n",
       "    <tr>\n",
       "      <th>13</th>\n",
       "      <td>13</td>\n",
       "      <td>what_is_your_name</td>\n",
       "      <td>[]</td>\n",
       "      <td>[((let's )|(please )|(i want you to )){0,1}int...</td>\n",
       "      <td>[]</td>\n",
       "    </tr>\n",
       "    <tr>\n",
       "      <th>14</th>\n",
       "      <td>14</td>\n",
       "      <td>where_are_you_from</td>\n",
       "      <td>[]</td>\n",
       "      <td>[Where are you from(, Alexa){0,1}, (((I live i...</td>\n",
       "      <td>[]</td>\n",
       "    </tr>\n",
       "    <tr>\n",
       "      <th>15</th>\n",
       "      <td>15</td>\n",
       "      <td>what_can_you_do</td>\n",
       "      <td>[]</td>\n",
       "      <td>[((so )){0,1}(tell me ){0,1}what can you do, (...</td>\n",
       "      <td>[]</td>\n",
       "    </tr>\n",
       "    <tr>\n",
       "      <th>16</th>\n",
       "      <td>16</td>\n",
       "      <td>choose_topic</td>\n",
       "      <td>[]</td>\n",
       "      <td>[(tell me ){0,1}what do you ((wanna)|(want to)...</td>\n",
       "      <td>[(tell me ){0,1}what do you ((wanna)|(want to)...</td>\n",
       "    </tr>\n",
       "    <tr>\n",
       "      <th>17</th>\n",
       "      <td>17</td>\n",
       "      <td>who_made_you</td>\n",
       "      <td>[]</td>\n",
       "      <td>[who ((did)|(created)|(made)|(make)|(create)|(...</td>\n",
       "      <td>[]</td>\n",
       "    </tr>\n",
       "    <tr>\n",
       "      <th>18</th>\n",
       "      <td>18</td>\n",
       "      <td>what_is_your_job</td>\n",
       "      <td>[]</td>\n",
       "      <td>[what('s){0,1} is your ((profession)|(job)|(wo...</td>\n",
       "      <td>[]</td>\n",
       "    </tr>\n",
       "    <tr>\n",
       "      <th>19</th>\n",
       "      <td>19</td>\n",
       "      <td>opinion_request</td>\n",
       "      <td>[]</td>\n",
       "      <td>[what (do){0,1} you ((think)|(reckon)|(believe...</td>\n",
       "      <td>[]</td>\n",
       "    </tr>\n",
       "    <tr>\n",
       "      <th>20</th>\n",
       "      <td>20</td>\n",
       "      <td>doing_well</td>\n",
       "      <td>[]</td>\n",
       "      <td>[doing ((fine)|(great)|(cool)|(okay))( ((thank...</td>\n",
       "      <td>[i am good]</td>\n",
       "    </tr>\n",
       "    <tr>\n",
       "      <th>21</th>\n",
       "      <td>21</td>\n",
       "      <td>what_time</td>\n",
       "      <td>[]</td>\n",
       "      <td>[can you tell me the time, what(('s)|( is)|())...</td>\n",
       "      <td>[what time is it( in)?[\\s\\S]+, what time it is...</td>\n",
       "    </tr>\n",
       "  </tbody>\n",
       "</table>\n",
       "</div>"
      ],
      "text/plain": [
       "    intent_id                 intent_name sample_utterances  \\\n",
       "0           0  what_are_you_talking_about                []   \n",
       "1           1             topic_switching                []   \n",
       "2           2             lets_chat_about                []   \n",
       "3           3                        exit                []   \n",
       "4           4             tell_me_a_story                []   \n",
       "5           5                      repeat                []   \n",
       "6           6                         yes                []   \n",
       "7           7                          no                []   \n",
       "8           8             dont_understand                []   \n",
       "9           9                      stupid                []   \n",
       "10         10                     cant_do                []   \n",
       "11         11                tell_me_more                []   \n",
       "12         12     weather_forecast_intent                []   \n",
       "13         13           what_is_your_name                []   \n",
       "14         14          where_are_you_from                []   \n",
       "15         15             what_can_you_do                []   \n",
       "16         16                choose_topic                []   \n",
       "17         17                who_made_you                []   \n",
       "18         18            what_is_your_job                []   \n",
       "19         19             opinion_request                []   \n",
       "20         20                  doing_well                []   \n",
       "21         21                   what_time                []   \n",
       "\n",
       "                                  regexp_for_sampling  \\\n",
       "0   [(alexa ){0,1}what are ((you)|(we)) ((talking ...   \n",
       "1   [(that's ){0,1}enough( talking ){0,1} about ((...   \n",
       "2   [(stop ){0,1}(((let's )|(i want to )|(wanna )|...   \n",
       "3   [be quiet, (see you ){0,1}later, leave me alon...   \n",
       "4   [tell me ((another)|(other)) story, ((can you ...   \n",
       "5   [i did not hear you, what come again, what did...   \n",
       "6   [yes yes yes, ((sure)|(fine)|(okay)|(ok)|(yes)...   \n",
       "7   [(alexa ){0,1}((no)|(nope)|(no way)|(don't)|(d...   \n",
       "8   [(because ){0,1}you are being confusing(, alex...   \n",
       "9   [(alexa ){0,1}why are you this ((stupid)|(dump...   \n",
       "10  [(alexa ){0,1}sing me a ((happy)|(sad)|(bedtim...   \n",
       "11  [((please )|(well )){0,1}tell me ((anything )|...   \n",
       "12  [tell me the weather in my ((town)|(city)|(pla...   \n",
       "13  [((let's )|(please )|(i want you to )){0,1}int...   \n",
       "14  [Where are you from(, Alexa){0,1}, (((I live i...   \n",
       "15  [((so )){0,1}(tell me ){0,1}what can you do, (...   \n",
       "16  [(tell me ){0,1}what do you ((wanna)|(want to)...   \n",
       "17  [who ((did)|(created)|(made)|(make)|(create)|(...   \n",
       "18  [what('s){0,1} is your ((profession)|(job)|(wo...   \n",
       "19  [what (do){0,1} you ((think)|(reckon)|(believe...   \n",
       "20  [doing ((fine)|(great)|(cool)|(okay))( ((thank...   \n",
       "21  [can you tell me the time, what(('s)|( is)|())...   \n",
       "\n",
       "                                      regexp_as_rules  \n",
       "0   [(alexa ){0,1}are we having a communication pr...  \n",
       "1   [tell me something else, don't tell me about ....  \n",
       "2   [.*let(('s)|(s)) ((chat)|(talk)) ((to|with) (m...  \n",
       "3   [(leave|end) (the|this) conversation, alexa do...  \n",
       "4                 [(can you ){0,1}tell me a .* story]  \n",
       "5   [one second, what( (book|movie))?, say it agai...  \n",
       "6   [you bet, kind of, sort of, oh yeah, maybe, it...  \n",
       "7                            [.* no no, .* not today]  \n",
       "8                                                  []  \n",
       "9                                                  []  \n",
       "10  [(let's|let us) play .*, can you whisper.*, (c...  \n",
       "11  [((please) |(well )){0,1}tell me ((more)|(some...  \n",
       "12                                                 []  \n",
       "13                                                 []  \n",
       "14                                                 []  \n",
       "15                                                 []  \n",
       "16  [(tell me ){0,1}what do you ((wanna)|(want to)...  \n",
       "17                                                 []  \n",
       "18                                                 []  \n",
       "19                                                 []  \n",
       "20                                        [i am good]  \n",
       "21  [what time is it( in)?[\\s\\S]+, what time it is...  "
      ]
     },
     "execution_count": 6,
     "metadata": {},
     "output_type": "execute_result"
    }
   ],
   "source": [
    "import pandas as pd\n",
    "\n",
    "pd.DataFrame.from_records(dream_records)"
   ]
  },
  {
   "cell_type": "code",
   "execution_count": 7,
   "metadata": {},
   "outputs": [],
   "source": [
    "json.dump(dream_records, open('../data/intent_records/dream.json', 'w'), indent=4, ensure_ascii=False)"
   ]
  },
  {
   "cell_type": "code",
   "execution_count": 8,
   "metadata": {},
   "outputs": [
    {
     "data": {
      "text/html": [
       "<div>\n",
       "<style scoped>\n",
       "    .dataframe tbody tr th:only-of-type {\n",
       "        vertical-align: middle;\n",
       "    }\n",
       "\n",
       "    .dataframe tbody tr th {\n",
       "        vertical-align: top;\n",
       "    }\n",
       "\n",
       "    .dataframe thead th {\n",
       "        text-align: right;\n",
       "    }\n",
       "</style>\n",
       "<table border=\"1\" class=\"dataframe\">\n",
       "  <thead>\n",
       "    <tr style=\"text-align: right;\">\n",
       "      <th></th>\n",
       "      <th>intent_id</th>\n",
       "      <th>intent_name</th>\n",
       "      <th>sample_utterances</th>\n",
       "      <th>regexp_for_sampling</th>\n",
       "      <th>regexp_as_rules</th>\n",
       "    </tr>\n",
       "  </thead>\n",
       "  <tbody>\n",
       "    <tr>\n",
       "      <th>0</th>\n",
       "      <td>0</td>\n",
       "      <td>what_are_you_talking_about</td>\n",
       "      <td>[]</td>\n",
       "      <td>[о ((чем)|(чём)) ты( говоришь){0,1}( вообще){0...</td>\n",
       "      <td>[о ((чем)|(чём)) ты( говоришь){0,1}( вообще){0...</td>\n",
       "    </tr>\n",
       "    <tr>\n",
       "      <th>1</th>\n",
       "      <td>1</td>\n",
       "      <td>topic_switching</td>\n",
       "      <td>[]</td>\n",
       "      <td>[((хватит)|(прекрати)|(не хочу)|(не хочу больш...</td>\n",
       "      <td>[((хватит)|(прекрати)|(не хочу)|(не хочу больш...</td>\n",
       "    </tr>\n",
       "    <tr>\n",
       "      <th>2</th>\n",
       "      <td>2</td>\n",
       "      <td>lets_chat_about</td>\n",
       "      <td>[]</td>\n",
       "      <td>[((можем)|(можешь)|(давай))(( мы)|( ты)|( я)){...</td>\n",
       "      <td>[((можем)|(можешь)|(давай))(( мы)|( ты)|( я)){...</td>\n",
       "    </tr>\n",
       "    <tr>\n",
       "      <th>3</th>\n",
       "      <td>3</td>\n",
       "      <td>exit</td>\n",
       "      <td>[]</td>\n",
       "      <td>[пока, хватит, закончим разговор, мне пора]</td>\n",
       "      <td>[пока(((-)|( ))пока){0,1}, хватит ((болтать)|(...</td>\n",
       "    </tr>\n",
       "    <tr>\n",
       "      <th>4</th>\n",
       "      <td>4</td>\n",
       "      <td>repeat</td>\n",
       "      <td>[]</td>\n",
       "      <td>[повтори( еще раз){0,1}( пожалуйста){0,1}, ((м...</td>\n",
       "      <td>[повтори( еще раз){0,1}( пожалуйста){0,1}, ((м...</td>\n",
       "    </tr>\n",
       "    <tr>\n",
       "      <th>5</th>\n",
       "      <td>5</td>\n",
       "      <td>yes</td>\n",
       "      <td>[]</td>\n",
       "      <td>[((да)|(конечно)|(разумеется)|(точно)|(согласе...</td>\n",
       "      <td>[((да)|(конечно)|(разумеется)|(точно)|(согласе...</td>\n",
       "    </tr>\n",
       "    <tr>\n",
       "      <th>6</th>\n",
       "      <td>6</td>\n",
       "      <td>no</td>\n",
       "      <td>[]</td>\n",
       "      <td>[((нет)|(нее)|(неа)|(ни за что)|(ни в коем слу...</td>\n",
       "      <td>[((нет)|(нее)|(неа)|(ни за что)|(ни в коем слу...</td>\n",
       "    </tr>\n",
       "    <tr>\n",
       "      <th>7</th>\n",
       "      <td>7</td>\n",
       "      <td>what_is_your_name</td>\n",
       "      <td>[]</td>\n",
       "      <td>[((представься)|(представь себя)), у тебя есть...</td>\n",
       "      <td>[((представься)|(представь себя)), у тебя есть...</td>\n",
       "    </tr>\n",
       "    <tr>\n",
       "      <th>8</th>\n",
       "      <td>8</td>\n",
       "      <td>where_are_you_from</td>\n",
       "      <td>[]</td>\n",
       "      <td>[откуда ((ты)|(вы))( родом){0,1}, ((какая)|(ка...</td>\n",
       "      <td>[откуда ((ты)|(вы))( родом){0,1}, ((какая)|(ка...</td>\n",
       "    </tr>\n",
       "    <tr>\n",
       "      <th>9</th>\n",
       "      <td>9</td>\n",
       "      <td>what_can_you_do</td>\n",
       "      <td>[]</td>\n",
       "      <td>[что ты ((умеешь)|(можешь)|(способна)|(способе...</td>\n",
       "      <td>[.*что ты ((умеешь)|(можешь)|(способна)|(спосо...</td>\n",
       "    </tr>\n",
       "    <tr>\n",
       "      <th>10</th>\n",
       "      <td>10</td>\n",
       "      <td>choose_topic</td>\n",
       "      <td>[]</td>\n",
       "      <td>[о чем(( ты)|( мы)){0,1} ((можем)|(можешь)|(хо...</td>\n",
       "      <td>[о чем(( ты)|( мы)){0,1} ((можем)|(можешь)|(хо...</td>\n",
       "    </tr>\n",
       "    <tr>\n",
       "      <th>11</th>\n",
       "      <td>11</td>\n",
       "      <td>who_made_you</td>\n",
       "      <td>[]</td>\n",
       "      <td>[кто(( тебя)|( тобой)){0,1} ((сделал)|(создал)...</td>\n",
       "      <td>[кто(( тебя)|( тобой)){0,1} ((сделал)|(создал)...</td>\n",
       "    </tr>\n",
       "    <tr>\n",
       "      <th>12</th>\n",
       "      <td>12</td>\n",
       "      <td>what_is_your_job</td>\n",
       "      <td>[]</td>\n",
       "      <td>[((какой)|(какая)) ((у тебя)|(твоя)) ((професс...</td>\n",
       "      <td>[((какой)|(какая)) ((у тебя)|(твоя)) ((професс...</td>\n",
       "    </tr>\n",
       "  </tbody>\n",
       "</table>\n",
       "</div>"
      ],
      "text/plain": [
       "    intent_id                 intent_name sample_utterances  \\\n",
       "0           0  what_are_you_talking_about                []   \n",
       "1           1             topic_switching                []   \n",
       "2           2             lets_chat_about                []   \n",
       "3           3                        exit                []   \n",
       "4           4                      repeat                []   \n",
       "5           5                         yes                []   \n",
       "6           6                          no                []   \n",
       "7           7           what_is_your_name                []   \n",
       "8           8          where_are_you_from                []   \n",
       "9           9             what_can_you_do                []   \n",
       "10         10                choose_topic                []   \n",
       "11         11                who_made_you                []   \n",
       "12         12            what_is_your_job                []   \n",
       "\n",
       "                                  regexp_for_sampling  \\\n",
       "0   [о ((чем)|(чём)) ты( говоришь){0,1}( вообще){0...   \n",
       "1   [((хватит)|(прекрати)|(не хочу)|(не хочу больш...   \n",
       "2   [((можем)|(можешь)|(давай))(( мы)|( ты)|( я)){...   \n",
       "3         [пока, хватит, закончим разговор, мне пора]   \n",
       "4   [повтори( еще раз){0,1}( пожалуйста){0,1}, ((м...   \n",
       "5   [((да)|(конечно)|(разумеется)|(точно)|(согласе...   \n",
       "6   [((нет)|(нее)|(неа)|(ни за что)|(ни в коем слу...   \n",
       "7   [((представься)|(представь себя)), у тебя есть...   \n",
       "8   [откуда ((ты)|(вы))( родом){0,1}, ((какая)|(ка...   \n",
       "9   [что ты ((умеешь)|(можешь)|(способна)|(способе...   \n",
       "10  [о чем(( ты)|( мы)){0,1} ((можем)|(можешь)|(хо...   \n",
       "11  [кто(( тебя)|( тобой)){0,1} ((сделал)|(создал)...   \n",
       "12  [((какой)|(какая)) ((у тебя)|(твоя)) ((професс...   \n",
       "\n",
       "                                      regexp_as_rules  \n",
       "0   [о ((чем)|(чём)) ты( говоришь){0,1}( вообще){0...  \n",
       "1   [((хватит)|(прекрати)|(не хочу)|(не хочу больш...  \n",
       "2   [((можем)|(можешь)|(давай))(( мы)|( ты)|( я)){...  \n",
       "3   [пока(((-)|( ))пока){0,1}, хватит ((болтать)|(...  \n",
       "4   [повтори( еще раз){0,1}( пожалуйста){0,1}, ((м...  \n",
       "5   [((да)|(конечно)|(разумеется)|(точно)|(согласе...  \n",
       "6   [((нет)|(нее)|(неа)|(ни за что)|(ни в коем слу...  \n",
       "7   [((представься)|(представь себя)), у тебя есть...  \n",
       "8   [откуда ((ты)|(вы))( родом){0,1}, ((какая)|(ка...  \n",
       "9   [.*что ты ((умеешь)|(можешь)|(способна)|(спосо...  \n",
       "10  [о чем(( ты)|( мы)){0,1} ((можем)|(можешь)|(хо...  \n",
       "11  [кто(( тебя)|( тобой)){0,1} ((сделал)|(создал)...  \n",
       "12  [((какой)|(какая)) ((у тебя)|(твоя)) ((професс...  "
      ]
     },
     "execution_count": 8,
     "metadata": {},
     "output_type": "execute_result"
    }
   ],
   "source": [
    "dream_ru_records = convert_dream(ru_dream)\n",
    "pd.DataFrame.from_records(dream_ru_records)"
   ]
  },
  {
   "cell_type": "code",
   "execution_count": 9,
   "metadata": {},
   "outputs": [],
   "source": [
    "json.dump(dream_ru_records, open('../data/intent_records/ru_dream.json', 'w'), indent=4, ensure_ascii=False)"
   ]
  },
  {
   "cell_type": "markdown",
   "metadata": {},
   "source": [
    "## banking77"
   ]
  },
  {
   "cell_type": "markdown",
   "metadata": {},
   "source": [
    "source: https://huggingface.co/datasets/PolyAI/banking77"
   ]
  },
  {
   "cell_type": "code",
   "execution_count": 10,
   "metadata": {},
   "outputs": [
    {
     "name": "stderr",
     "output_type": "stream",
     "text": [
      "/home/voorhs/.pyenv/versions/3.10.14/envs/.autointent-dev/lib/python3.10/site-packages/tqdm/auto.py:21: TqdmWarning: IProgress not found. Please update jupyter and ipywidgets. See https://ipywidgets.readthedocs.io/en/stable/user_install.html\n",
      "  from .autonotebook import tqdm as notebook_tqdm\n"
     ]
    }
   ],
   "source": [
    "from datasets import load_dataset\n",
    "\n",
    "banking77 = load_dataset('PolyAI/banking77')"
   ]
  },
  {
   "cell_type": "code",
   "execution_count": 11,
   "metadata": {},
   "outputs": [
    {
     "data": {
      "text/plain": [
       "DatasetDict({\n",
       "    train: Dataset({\n",
       "        features: ['text', 'label'],\n",
       "        num_rows: 10003\n",
       "    })\n",
       "    test: Dataset({\n",
       "        features: ['text', 'label'],\n",
       "        num_rows: 3080\n",
       "    })\n",
       "})"
      ]
     },
     "execution_count": 11,
     "metadata": {},
     "output_type": "execute_result"
    }
   ],
   "source": [
    "banking77"
   ]
  },
  {
   "cell_type": "code",
   "execution_count": 12,
   "metadata": {},
   "outputs": [
    {
     "data": {
      "text/plain": [
       "{'text': 'I am still waiting on my card?', 'label': 11}"
      ]
     },
     "execution_count": 12,
     "metadata": {},
     "output_type": "execute_result"
    }
   ],
   "source": [
    "banking77['train'][0]"
   ]
  },
  {
   "cell_type": "code",
   "execution_count": 13,
   "metadata": {},
   "outputs": [],
   "source": [
    "# ! wget https://huggingface.co/datasets/PolyAI/banking77/resolve/main/dataset_infos.json -O ../data/banking77_info.json"
   ]
  },
  {
   "cell_type": "markdown",
   "metadata": {},
   "source": [
    "### intent records"
   ]
  },
  {
   "cell_type": "code",
   "execution_count": 14,
   "metadata": {},
   "outputs": [],
   "source": [
    "banking77_info = json.load(open('../data/banking77_info.json'))\n",
    "intent_names = banking77_info['default']['features']['label']['names']"
   ]
  },
  {
   "cell_type": "code",
   "execution_count": 15,
   "metadata": {},
   "outputs": [],
   "source": [
    "def convert_banking77(banking77_train, shots_per_intent):\n",
    "    all_labels = sorted(banking77_train.unique('label'))\n",
    "    assert all_labels == list(range(77))\n",
    "\n",
    "    res = [{\n",
    "        'intent_id': i,\n",
    "        'intent_name': name,\n",
    "        'sample_utterances': [],\n",
    "        'regexp_for_sampling': [],\n",
    "        'regexp_as_rules': []\n",
    "    } for i, name in enumerate(intent_names)]\n",
    "\n",
    "\n",
    "    for b77_batch in banking77_train.iter(batch_size=16, drop_last_batch=False):\n",
    "        for txt, intent_id in zip(b77_batch['text'], b77_batch['label']):\n",
    "            target_list = res[intent_id]['sample_utterances']\n",
    "            if len(target_list) >= shots_per_intent:\n",
    "                continue\n",
    "            target_list.append(txt)\n",
    "    \n",
    "    return res"
   ]
  },
  {
   "cell_type": "code",
   "execution_count": 16,
   "metadata": {},
   "outputs": [],
   "source": [
    "banking77_records = convert_banking77(banking77['train'], shots_per_intent=5)"
   ]
  },
  {
   "cell_type": "code",
   "execution_count": 17,
   "metadata": {},
   "outputs": [
    {
     "data": {
      "text/plain": [
       "{'intent_id': 0,\n",
       " 'intent_name': 'activate_my_card',\n",
       " 'sample_utterances': [\"Please help me with my card.  It won't activate.\",\n",
       "  'I tired but an unable to activate my card.',\n",
       "  'I want to start using my card.',\n",
       "  'How do I verify my new card?',\n",
       "  \"I tried activating my plug-in and it didn't piece of work\"],\n",
       " 'regexp_for_sampling': [],\n",
       " 'regexp_as_rules': []}"
      ]
     },
     "execution_count": 17,
     "metadata": {},
     "output_type": "execute_result"
    }
   ],
   "source": [
    "banking77_records[0]"
   ]
  },
  {
   "cell_type": "code",
   "execution_count": 18,
   "metadata": {},
   "outputs": [],
   "source": [
    "json.dump(banking77_records, open('../data/intent_records/banking77.json', 'w'), indent=4, ensure_ascii=False)"
   ]
  },
  {
   "cell_type": "markdown",
   "metadata": {},
   "source": [
    "### utterance records"
   ]
  },
  {
   "cell_type": "code",
   "execution_count": 5,
   "metadata": {},
   "outputs": [
    {
     "data": {
      "text/plain": [
       "{'intent_id': 0,\n",
       " 'intent_name': 'activate_my_card',\n",
       " 'sample_utterances': [\"Please help me with my card.  It won't activate.\",\n",
       "  'I tired but an unable to activate my card.',\n",
       "  'I want to start using my card.',\n",
       "  'How do I verify my new card?',\n",
       "  \"I tried activating my plug-in and it didn't piece of work\"],\n",
       " 'regexp_for_sampling': [],\n",
       " 'regexp_as_rules': []}"
      ]
     },
     "execution_count": 5,
     "metadata": {},
     "output_type": "execute_result"
    }
   ],
   "source": [
    "import json\n",
    "\n",
    "banking77_records = json.load(open('../data/intent_records/banking77.json'))\n",
    "ru_banking77_records = json.load(open('../data/intent_records/ru_banking77.json'))\n",
    "banking77_records[0]"
   ]
  },
  {
   "cell_type": "code",
   "execution_count": 6,
   "metadata": {},
   "outputs": [],
   "source": [
    "def get_utterance_records(intent_records):\n",
    "    res = []\n",
    "    for rec in intent_records:\n",
    "        for utt in rec['sample_utterances']:\n",
    "            res.append(dict(\n",
    "                intent_id=rec['intent_id'],\n",
    "                intent_name=rec['intent_name'],\n",
    "                utterance=utt\n",
    "            ))\n",
    "    return res"
   ]
  },
  {
   "cell_type": "code",
   "execution_count": 7,
   "metadata": {},
   "outputs": [],
   "source": [
    "banking77_utterance_records = get_utterance_records(banking77_records)\n",
    "ru_banking77_utterance_records = get_utterance_records(ru_banking77_records)"
   ]
  },
  {
   "cell_type": "code",
   "execution_count": 8,
   "metadata": {},
   "outputs": [],
   "source": [
    "json.dump(banking77_utterance_records, open('../data/utterance_records/banking77.json', 'w'), indent=4, ensure_ascii=False)\n",
    "json.dump(ru_banking77_utterance_records, open('../data/utterance_records/ru_banking77.json', 'w'), indent=4, ensure_ascii=False)"
   ]
  },
  {
   "cell_type": "markdown",
   "metadata": {},
   "source": [
    "## russian banking77"
   ]
  },
  {
   "cell_type": "markdown",
   "metadata": {},
   "source": [
    "source: https://github.com/LadaNikitina/RuBanking77"
   ]
  },
  {
   "cell_type": "code",
   "execution_count": 20,
   "metadata": {},
   "outputs": [
    {
     "name": "stdout",
     "output_type": "stream",
     "text": [
      "Cloning into '../data/RuBanking77'...\n",
      "Username for 'https://github.com': ^C\n"
     ]
    }
   ],
   "source": [
    "# ! git clone https://github.com/LadaNikitina/RuBanking77 ../data/RuBanking77\n",
    "# ! rm -rf ../data/RuBanking77/.git"
   ]
  },
  {
   "cell_type": "code",
   "execution_count": 21,
   "metadata": {},
   "outputs": [
    {
     "data": {
      "text/plain": [
       "DatasetDict({\n",
       "    train: Dataset({\n",
       "        features: ['text', 'label'],\n",
       "        num_rows: 10003\n",
       "    })\n",
       "    test: Dataset({\n",
       "        features: ['text', 'label'],\n",
       "        num_rows: 3080\n",
       "    })\n",
       "})"
      ]
     },
     "execution_count": 21,
     "metadata": {},
     "output_type": "execute_result"
    }
   ],
   "source": [
    "from datasets import load_from_disk\n",
    "\n",
    "rubanking77 = load_from_disk('../data/RuBanking77')\n",
    "rubanking77"
   ]
  },
  {
   "cell_type": "code",
   "execution_count": 22,
   "metadata": {},
   "outputs": [
    {
     "data": {
      "text/plain": [
       "{'text': 'Я все еще жду свою карту?', 'label': 11}"
      ]
     },
     "execution_count": 22,
     "metadata": {},
     "output_type": "execute_result"
    }
   ],
   "source": [
    "rubanking77['train'][0]"
   ]
  },
  {
   "cell_type": "code",
   "execution_count": 23,
   "metadata": {},
   "outputs": [],
   "source": [
    "rubanking77_records = convert_banking77(rubanking77['train'], shots_per_intent=5)"
   ]
  },
  {
   "cell_type": "code",
   "execution_count": 24,
   "metadata": {},
   "outputs": [
    {
     "data": {
      "text/plain": [
       "{'intent_id': 0,\n",
       " 'intent_name': 'activate_my_card',\n",
       " 'sample_utterances': ['Пожалуйста, помогите мне с моей картой. Она не активируется.',\n",
       "  'Я устал, но не могу активировать свою карту.',\n",
       "  'Я хочу начать пользоваться своей картой.',\n",
       "  'Как мне проверить мою новую карту?',\n",
       "  'Я попытался активировать свой плагин, и это не сработало.'],\n",
       " 'regexp_for_sampling': [],\n",
       " 'regexp_as_rules': []}"
      ]
     },
     "execution_count": 24,
     "metadata": {},
     "output_type": "execute_result"
    }
   ],
   "source": [
    "rubanking77_records[0]"
   ]
  },
  {
   "cell_type": "code",
   "execution_count": 25,
   "metadata": {},
   "outputs": [],
   "source": [
    "json.dump(rubanking77_records, open('../data/intent_records/ru_banking77.json', 'w'), indent=4, ensure_ascii=False)"
   ]
  }
 ],
 "metadata": {
  "kernelspec": {
   "display_name": ".autointent",
   "language": "python",
   "name": "python3"
  },
  "language_info": {
   "codemirror_mode": {
    "name": "ipython",
    "version": 3
   },
   "file_extension": ".py",
   "mimetype": "text/x-python",
   "name": "python",
   "nbconvert_exporter": "python",
   "pygments_lexer": "ipython3",
   "version": "3.10.14"
  }
 },
 "nbformat": 4,
 "nbformat_minor": 2
}
